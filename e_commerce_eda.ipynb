{
  "nbformat": 4,
  "nbformat_minor": 0,
  "metadata": {
    "colab": {
      "provenance": [],
      "collapsed_sections": [
        "17aC4py0onZd",
        "KnpE2mOIowcn",
        "ZQPu8bWRaex9",
        "43eY8QDEc5u0",
        "v5qjUxoXf1oA",
        "71Yg3B69h2p4",
        "KAvUBFRLjw-I"
      ]
    },
    "kernelspec": {
      "name": "python3",
      "display_name": "Python 3"
    },
    "language_info": {
      "name": "python"
    }
  },
  "cells": [
    {
      "cell_type": "markdown",
      "source": [
        "# Exploratory Data Analysis (EDA) of an E-commerce Dataset"
      ],
      "metadata": {
        "id": "u6Sr8nHPP_9P"
      }
    },
    {
      "cell_type": "markdown",
      "source": [
        "This dataset contains e-commerce transaction data, including details about orders, customers, products, and sales. The goal is to analyze sales patterns, customer behavior, and key business metrics."
      ],
      "metadata": {
        "id": "6H9yEQtPm0Zn"
      }
    },
    {
      "cell_type": "markdown",
      "source": [
        "dataset: https://www.kaggle.com/datasets/mervemenekse/ecommerce-dataset?utm_medium=social&utm_campaign=kaggle-dataset-share&utm_source=twitter"
      ],
      "metadata": {
        "id": "L2qK-lH6o2hf"
      }
    },
    {
      "cell_type": "markdown",
      "source": [
        "## Initial Plan for Data Exploration"
      ],
      "metadata": {
        "id": "ZmPgr35noVG6"
      }
    },
    {
      "cell_type": "markdown",
      "source": [
        "- Data Cleaning & Preparation: I will check for missing values, incorrect data types, and any necessary preprocessing steps.\n",
        "\n",
        "- Exploratory Data Analysis (EDA): I will analyze overall trends, identify key patterns, and look for any interesting insights.\n",
        "\n",
        "- Hypothesis Formulation: I will define at least three hypotheses to test potential relationships within the data.\n",
        "\n",
        "- Statistical Testing: I will perform significance tests to validate the hypotheses and see if the observed patterns are meaningful.\n",
        "\n",
        "- Next Steps: Based on the findings, I will suggest further analyses to gain deeper insights.\n",
        "\n",
        "- Data Quality & Additional Data Request: I will assess whether the dataset is complete and identify any missing information that could improve the analysis."
      ],
      "metadata": {
        "id": "PcQmAsFlm3uL"
      }
    },
    {
      "cell_type": "markdown",
      "source": [
        "## Data Cleaning & Preparation"
      ],
      "metadata": {
        "id": "17aC4py0onZd"
      }
    },
    {
      "cell_type": "code",
      "source": [
        "from google.colab import drive\n",
        "drive.mount('/content/drive')"
      ],
      "metadata": {
        "colab": {
          "base_uri": "https://localhost:8080/"
        },
        "id": "iSFRICT7P_X9",
        "outputId": "f5a5d179-6949-40ca-923f-c589d8857aa1"
      },
      "execution_count": null,
      "outputs": [
        {
          "output_type": "stream",
          "name": "stdout",
          "text": [
            "Drive already mounted at /content/drive; to attempt to forcibly remount, call drive.mount(\"/content/drive\", force_remount=True).\n"
          ]
        }
      ]
    },
    {
      "cell_type": "code",
      "source": [
        "import pandas as pd\n",
        "import numpy as np\n",
        "import matplotlib.pyplot as plt\n",
        "import seaborn as sns"
      ],
      "metadata": {
        "id": "IgvNt6CDQYWm"
      },
      "execution_count": null,
      "outputs": []
    },
    {
      "cell_type": "code",
      "source": [
        "# read csv\n",
        "df = pd.read_csv('/content/drive/MyDrive/e-commerce.csv')\n",
        "df.head()"
      ],
      "metadata": {
        "colab": {
          "base_uri": "https://localhost:8080/",
          "height": 330
        },
        "id": "q0MYEKbEQY9i",
        "outputId": "98eef8b3-5e1e-4100-8dfb-6042c64b1c93"
      },
      "execution_count": null,
      "outputs": [
        {
          "output_type": "execute_result",
          "data": {
            "text/plain": [
              "   Order_Date      Time  Aging  Customer_Id  Gender Device_Type  \\\n",
              "0  2018-01-02  10:56:33    8.0        37077  Female         Web   \n",
              "1  2018-07-24  20:41:37    2.0        59173  Female         Web   \n",
              "2  2018-11-08  08:38:49    8.0        41066  Female         Web   \n",
              "3  2018-04-18  19:28:06    7.0        50741  Female         Web   \n",
              "4  2018-08-13  21:18:39    9.0        53639  Female         Web   \n",
              "\n",
              "  Customer_Login_type    Product_Category            Product  Sales  Quantity  \\\n",
              "0              Member  Auto & Accessories  Car Media Players  140.0       1.0   \n",
              "1              Member  Auto & Accessories       Car Speakers  211.0       1.0   \n",
              "2              Member  Auto & Accessories    Car Body Covers  117.0       5.0   \n",
              "3              Member  Auto & Accessories    Car & Bike Care  118.0       1.0   \n",
              "4              Member  Auto & Accessories               Tyre  250.0       1.0   \n",
              "\n",
              "   Discount  Profit  Shipping_Cost Order_Priority Payment_method  \n",
              "0       0.3    46.0            4.6         Medium    credit_card  \n",
              "1       0.3   112.0           11.2         Medium    credit_card  \n",
              "2       0.1    31.2            3.1       Critical    credit_card  \n",
              "3       0.3    26.2            2.6           High    credit_card  \n",
              "4       0.3   160.0           16.0       Critical    credit_card  "
            ],
            "text/html": [
              "\n",
              "  <div id=\"df-83d340dc-e875-460e-b45b-b75f289ba2a9\" class=\"colab-df-container\">\n",
              "    <div>\n",
              "<style scoped>\n",
              "    .dataframe tbody tr th:only-of-type {\n",
              "        vertical-align: middle;\n",
              "    }\n",
              "\n",
              "    .dataframe tbody tr th {\n",
              "        vertical-align: top;\n",
              "    }\n",
              "\n",
              "    .dataframe thead th {\n",
              "        text-align: right;\n",
              "    }\n",
              "</style>\n",
              "<table border=\"1\" class=\"dataframe\">\n",
              "  <thead>\n",
              "    <tr style=\"text-align: right;\">\n",
              "      <th></th>\n",
              "      <th>Order_Date</th>\n",
              "      <th>Time</th>\n",
              "      <th>Aging</th>\n",
              "      <th>Customer_Id</th>\n",
              "      <th>Gender</th>\n",
              "      <th>Device_Type</th>\n",
              "      <th>Customer_Login_type</th>\n",
              "      <th>Product_Category</th>\n",
              "      <th>Product</th>\n",
              "      <th>Sales</th>\n",
              "      <th>Quantity</th>\n",
              "      <th>Discount</th>\n",
              "      <th>Profit</th>\n",
              "      <th>Shipping_Cost</th>\n",
              "      <th>Order_Priority</th>\n",
              "      <th>Payment_method</th>\n",
              "    </tr>\n",
              "  </thead>\n",
              "  <tbody>\n",
              "    <tr>\n",
              "      <th>0</th>\n",
              "      <td>2018-01-02</td>\n",
              "      <td>10:56:33</td>\n",
              "      <td>8.0</td>\n",
              "      <td>37077</td>\n",
              "      <td>Female</td>\n",
              "      <td>Web</td>\n",
              "      <td>Member</td>\n",
              "      <td>Auto &amp; Accessories</td>\n",
              "      <td>Car Media Players</td>\n",
              "      <td>140.0</td>\n",
              "      <td>1.0</td>\n",
              "      <td>0.3</td>\n",
              "      <td>46.0</td>\n",
              "      <td>4.6</td>\n",
              "      <td>Medium</td>\n",
              "      <td>credit_card</td>\n",
              "    </tr>\n",
              "    <tr>\n",
              "      <th>1</th>\n",
              "      <td>2018-07-24</td>\n",
              "      <td>20:41:37</td>\n",
              "      <td>2.0</td>\n",
              "      <td>59173</td>\n",
              "      <td>Female</td>\n",
              "      <td>Web</td>\n",
              "      <td>Member</td>\n",
              "      <td>Auto &amp; Accessories</td>\n",
              "      <td>Car Speakers</td>\n",
              "      <td>211.0</td>\n",
              "      <td>1.0</td>\n",
              "      <td>0.3</td>\n",
              "      <td>112.0</td>\n",
              "      <td>11.2</td>\n",
              "      <td>Medium</td>\n",
              "      <td>credit_card</td>\n",
              "    </tr>\n",
              "    <tr>\n",
              "      <th>2</th>\n",
              "      <td>2018-11-08</td>\n",
              "      <td>08:38:49</td>\n",
              "      <td>8.0</td>\n",
              "      <td>41066</td>\n",
              "      <td>Female</td>\n",
              "      <td>Web</td>\n",
              "      <td>Member</td>\n",
              "      <td>Auto &amp; Accessories</td>\n",
              "      <td>Car Body Covers</td>\n",
              "      <td>117.0</td>\n",
              "      <td>5.0</td>\n",
              "      <td>0.1</td>\n",
              "      <td>31.2</td>\n",
              "      <td>3.1</td>\n",
              "      <td>Critical</td>\n",
              "      <td>credit_card</td>\n",
              "    </tr>\n",
              "    <tr>\n",
              "      <th>3</th>\n",
              "      <td>2018-04-18</td>\n",
              "      <td>19:28:06</td>\n",
              "      <td>7.0</td>\n",
              "      <td>50741</td>\n",
              "      <td>Female</td>\n",
              "      <td>Web</td>\n",
              "      <td>Member</td>\n",
              "      <td>Auto &amp; Accessories</td>\n",
              "      <td>Car &amp; Bike Care</td>\n",
              "      <td>118.0</td>\n",
              "      <td>1.0</td>\n",
              "      <td>0.3</td>\n",
              "      <td>26.2</td>\n",
              "      <td>2.6</td>\n",
              "      <td>High</td>\n",
              "      <td>credit_card</td>\n",
              "    </tr>\n",
              "    <tr>\n",
              "      <th>4</th>\n",
              "      <td>2018-08-13</td>\n",
              "      <td>21:18:39</td>\n",
              "      <td>9.0</td>\n",
              "      <td>53639</td>\n",
              "      <td>Female</td>\n",
              "      <td>Web</td>\n",
              "      <td>Member</td>\n",
              "      <td>Auto &amp; Accessories</td>\n",
              "      <td>Tyre</td>\n",
              "      <td>250.0</td>\n",
              "      <td>1.0</td>\n",
              "      <td>0.3</td>\n",
              "      <td>160.0</td>\n",
              "      <td>16.0</td>\n",
              "      <td>Critical</td>\n",
              "      <td>credit_card</td>\n",
              "    </tr>\n",
              "  </tbody>\n",
              "</table>\n",
              "</div>\n",
              "    <div class=\"colab-df-buttons\">\n",
              "\n",
              "  <div class=\"colab-df-container\">\n",
              "    <button class=\"colab-df-convert\" onclick=\"convertToInteractive('df-83d340dc-e875-460e-b45b-b75f289ba2a9')\"\n",
              "            title=\"Convert this dataframe to an interactive table.\"\n",
              "            style=\"display:none;\">\n",
              "\n",
              "  <svg xmlns=\"http://www.w3.org/2000/svg\" height=\"24px\" viewBox=\"0 -960 960 960\">\n",
              "    <path d=\"M120-120v-720h720v720H120Zm60-500h600v-160H180v160Zm220 220h160v-160H400v160Zm0 220h160v-160H400v160ZM180-400h160v-160H180v160Zm440 0h160v-160H620v160ZM180-180h160v-160H180v160Zm440 0h160v-160H620v160Z\"/>\n",
              "  </svg>\n",
              "    </button>\n",
              "\n",
              "  <style>\n",
              "    .colab-df-container {\n",
              "      display:flex;\n",
              "      gap: 12px;\n",
              "    }\n",
              "\n",
              "    .colab-df-convert {\n",
              "      background-color: #E8F0FE;\n",
              "      border: none;\n",
              "      border-radius: 50%;\n",
              "      cursor: pointer;\n",
              "      display: none;\n",
              "      fill: #1967D2;\n",
              "      height: 32px;\n",
              "      padding: 0 0 0 0;\n",
              "      width: 32px;\n",
              "    }\n",
              "\n",
              "    .colab-df-convert:hover {\n",
              "      background-color: #E2EBFA;\n",
              "      box-shadow: 0px 1px 2px rgba(60, 64, 67, 0.3), 0px 1px 3px 1px rgba(60, 64, 67, 0.15);\n",
              "      fill: #174EA6;\n",
              "    }\n",
              "\n",
              "    .colab-df-buttons div {\n",
              "      margin-bottom: 4px;\n",
              "    }\n",
              "\n",
              "    [theme=dark] .colab-df-convert {\n",
              "      background-color: #3B4455;\n",
              "      fill: #D2E3FC;\n",
              "    }\n",
              "\n",
              "    [theme=dark] .colab-df-convert:hover {\n",
              "      background-color: #434B5C;\n",
              "      box-shadow: 0px 1px 3px 1px rgba(0, 0, 0, 0.15);\n",
              "      filter: drop-shadow(0px 1px 2px rgba(0, 0, 0, 0.3));\n",
              "      fill: #FFFFFF;\n",
              "    }\n",
              "  </style>\n",
              "\n",
              "    <script>\n",
              "      const buttonEl =\n",
              "        document.querySelector('#df-83d340dc-e875-460e-b45b-b75f289ba2a9 button.colab-df-convert');\n",
              "      buttonEl.style.display =\n",
              "        google.colab.kernel.accessAllowed ? 'block' : 'none';\n",
              "\n",
              "      async function convertToInteractive(key) {\n",
              "        const element = document.querySelector('#df-83d340dc-e875-460e-b45b-b75f289ba2a9');\n",
              "        const dataTable =\n",
              "          await google.colab.kernel.invokeFunction('convertToInteractive',\n",
              "                                                    [key], {});\n",
              "        if (!dataTable) return;\n",
              "\n",
              "        const docLinkHtml = 'Like what you see? Visit the ' +\n",
              "          '<a target=\"_blank\" href=https://colab.research.google.com/notebooks/data_table.ipynb>data table notebook</a>'\n",
              "          + ' to learn more about interactive tables.';\n",
              "        element.innerHTML = '';\n",
              "        dataTable['output_type'] = 'display_data';\n",
              "        await google.colab.output.renderOutput(dataTable, element);\n",
              "        const docLink = document.createElement('div');\n",
              "        docLink.innerHTML = docLinkHtml;\n",
              "        element.appendChild(docLink);\n",
              "      }\n",
              "    </script>\n",
              "  </div>\n",
              "\n",
              "\n",
              "<div id=\"df-07d9e640-d521-41cb-99a4-2eb42f68cf14\">\n",
              "  <button class=\"colab-df-quickchart\" onclick=\"quickchart('df-07d9e640-d521-41cb-99a4-2eb42f68cf14')\"\n",
              "            title=\"Suggest charts\"\n",
              "            style=\"display:none;\">\n",
              "\n",
              "<svg xmlns=\"http://www.w3.org/2000/svg\" height=\"24px\"viewBox=\"0 0 24 24\"\n",
              "     width=\"24px\">\n",
              "    <g>\n",
              "        <path d=\"M19 3H5c-1.1 0-2 .9-2 2v14c0 1.1.9 2 2 2h14c1.1 0 2-.9 2-2V5c0-1.1-.9-2-2-2zM9 17H7v-7h2v7zm4 0h-2V7h2v10zm4 0h-2v-4h2v4z\"/>\n",
              "    </g>\n",
              "</svg>\n",
              "  </button>\n",
              "\n",
              "<style>\n",
              "  .colab-df-quickchart {\n",
              "      --bg-color: #E8F0FE;\n",
              "      --fill-color: #1967D2;\n",
              "      --hover-bg-color: #E2EBFA;\n",
              "      --hover-fill-color: #174EA6;\n",
              "      --disabled-fill-color: #AAA;\n",
              "      --disabled-bg-color: #DDD;\n",
              "  }\n",
              "\n",
              "  [theme=dark] .colab-df-quickchart {\n",
              "      --bg-color: #3B4455;\n",
              "      --fill-color: #D2E3FC;\n",
              "      --hover-bg-color: #434B5C;\n",
              "      --hover-fill-color: #FFFFFF;\n",
              "      --disabled-bg-color: #3B4455;\n",
              "      --disabled-fill-color: #666;\n",
              "  }\n",
              "\n",
              "  .colab-df-quickchart {\n",
              "    background-color: var(--bg-color);\n",
              "    border: none;\n",
              "    border-radius: 50%;\n",
              "    cursor: pointer;\n",
              "    display: none;\n",
              "    fill: var(--fill-color);\n",
              "    height: 32px;\n",
              "    padding: 0;\n",
              "    width: 32px;\n",
              "  }\n",
              "\n",
              "  .colab-df-quickchart:hover {\n",
              "    background-color: var(--hover-bg-color);\n",
              "    box-shadow: 0 1px 2px rgba(60, 64, 67, 0.3), 0 1px 3px 1px rgba(60, 64, 67, 0.15);\n",
              "    fill: var(--button-hover-fill-color);\n",
              "  }\n",
              "\n",
              "  .colab-df-quickchart-complete:disabled,\n",
              "  .colab-df-quickchart-complete:disabled:hover {\n",
              "    background-color: var(--disabled-bg-color);\n",
              "    fill: var(--disabled-fill-color);\n",
              "    box-shadow: none;\n",
              "  }\n",
              "\n",
              "  .colab-df-spinner {\n",
              "    border: 2px solid var(--fill-color);\n",
              "    border-color: transparent;\n",
              "    border-bottom-color: var(--fill-color);\n",
              "    animation:\n",
              "      spin 1s steps(1) infinite;\n",
              "  }\n",
              "\n",
              "  @keyframes spin {\n",
              "    0% {\n",
              "      border-color: transparent;\n",
              "      border-bottom-color: var(--fill-color);\n",
              "      border-left-color: var(--fill-color);\n",
              "    }\n",
              "    20% {\n",
              "      border-color: transparent;\n",
              "      border-left-color: var(--fill-color);\n",
              "      border-top-color: var(--fill-color);\n",
              "    }\n",
              "    30% {\n",
              "      border-color: transparent;\n",
              "      border-left-color: var(--fill-color);\n",
              "      border-top-color: var(--fill-color);\n",
              "      border-right-color: var(--fill-color);\n",
              "    }\n",
              "    40% {\n",
              "      border-color: transparent;\n",
              "      border-right-color: var(--fill-color);\n",
              "      border-top-color: var(--fill-color);\n",
              "    }\n",
              "    60% {\n",
              "      border-color: transparent;\n",
              "      border-right-color: var(--fill-color);\n",
              "    }\n",
              "    80% {\n",
              "      border-color: transparent;\n",
              "      border-right-color: var(--fill-color);\n",
              "      border-bottom-color: var(--fill-color);\n",
              "    }\n",
              "    90% {\n",
              "      border-color: transparent;\n",
              "      border-bottom-color: var(--fill-color);\n",
              "    }\n",
              "  }\n",
              "</style>\n",
              "\n",
              "  <script>\n",
              "    async function quickchart(key) {\n",
              "      const quickchartButtonEl =\n",
              "        document.querySelector('#' + key + ' button');\n",
              "      quickchartButtonEl.disabled = true;  // To prevent multiple clicks.\n",
              "      quickchartButtonEl.classList.add('colab-df-spinner');\n",
              "      try {\n",
              "        const charts = await google.colab.kernel.invokeFunction(\n",
              "            'suggestCharts', [key], {});\n",
              "      } catch (error) {\n",
              "        console.error('Error during call to suggestCharts:', error);\n",
              "      }\n",
              "      quickchartButtonEl.classList.remove('colab-df-spinner');\n",
              "      quickchartButtonEl.classList.add('colab-df-quickchart-complete');\n",
              "    }\n",
              "    (() => {\n",
              "      let quickchartButtonEl =\n",
              "        document.querySelector('#df-07d9e640-d521-41cb-99a4-2eb42f68cf14 button');\n",
              "      quickchartButtonEl.style.display =\n",
              "        google.colab.kernel.accessAllowed ? 'block' : 'none';\n",
              "    })();\n",
              "  </script>\n",
              "</div>\n",
              "\n",
              "    </div>\n",
              "  </div>\n"
            ],
            "application/vnd.google.colaboratory.intrinsic+json": {
              "type": "dataframe",
              "variable_name": "df",
              "summary": "{\n  \"name\": \"df\",\n  \"rows\": 51290,\n  \"fields\": [\n    {\n      \"column\": \"Order_Date\",\n      \"properties\": {\n        \"dtype\": \"object\",\n        \"num_unique_values\": 356,\n        \"samples\": [\n          \"2018-12-19\",\n          \"2018-10-26\",\n          \"2018-04-02\"\n        ],\n        \"semantic_type\": \"\",\n        \"description\": \"\"\n      }\n    },\n    {\n      \"column\": \"Time\",\n      \"properties\": {\n        \"dtype\": \"object\",\n        \"num_unique_values\": 35275,\n        \"samples\": [\n          \"22:23:24\",\n          \"12:16:16\",\n          \"13:42:28\"\n        ],\n        \"semantic_type\": \"\",\n        \"description\": \"\"\n      }\n    },\n    {\n      \"column\": \"Aging\",\n      \"properties\": {\n        \"dtype\": \"number\",\n        \"std\": 2.959948361375854,\n        \"min\": 1.0,\n        \"max\": 10.5,\n        \"num_unique_values\": 11,\n        \"samples\": [\n          10.0,\n          8.0,\n          3.0\n        ],\n        \"semantic_type\": \"\",\n        \"description\": \"\"\n      }\n    },\n    {\n      \"column\": \"Customer_Id\",\n      \"properties\": {\n        \"dtype\": \"number\",\n        \"std\": 26032,\n        \"min\": 10000,\n        \"max\": 99999,\n        \"num_unique_values\": 38997,\n        \"samples\": [\n          53935,\n          81580,\n          60985\n        ],\n        \"semantic_type\": \"\",\n        \"description\": \"\"\n      }\n    },\n    {\n      \"column\": \"Gender\",\n      \"properties\": {\n        \"dtype\": \"category\",\n        \"num_unique_values\": 2,\n        \"samples\": [\n          \"Male\",\n          \"Female\"\n        ],\n        \"semantic_type\": \"\",\n        \"description\": \"\"\n      }\n    },\n    {\n      \"column\": \"Device_Type\",\n      \"properties\": {\n        \"dtype\": \"category\",\n        \"num_unique_values\": 2,\n        \"samples\": [\n          \"Mobile\",\n          \"Web\"\n        ],\n        \"semantic_type\": \"\",\n        \"description\": \"\"\n      }\n    },\n    {\n      \"column\": \"Customer_Login_type\",\n      \"properties\": {\n        \"dtype\": \"category\",\n        \"num_unique_values\": 4,\n        \"samples\": [\n          \"Guest\",\n          \"First SignUp\"\n        ],\n        \"semantic_type\": \"\",\n        \"description\": \"\"\n      }\n    },\n    {\n      \"column\": \"Product_Category\",\n      \"properties\": {\n        \"dtype\": \"category\",\n        \"num_unique_values\": 4,\n        \"samples\": [\n          \"Fashion\",\n          \"Home & Furniture\"\n        ],\n        \"semantic_type\": \"\",\n        \"description\": \"\"\n      }\n    },\n    {\n      \"column\": \"Product\",\n      \"properties\": {\n        \"dtype\": \"category\",\n        \"num_unique_values\": 42,\n        \"samples\": [\n          \"Mouse\",\n          \"Casula Shoes\"\n        ],\n        \"semantic_type\": \"\",\n        \"description\": \"\"\n      }\n    },\n    {\n      \"column\": \"Sales\",\n      \"properties\": {\n        \"dtype\": \"number\",\n        \"std\": 66.49541941736057,\n        \"min\": 33.0,\n        \"max\": 250.0,\n        \"num_unique_values\": 39,\n        \"samples\": [\n          67.0,\n          124.0\n        ],\n        \"semantic_type\": \"\",\n        \"description\": \"\"\n      }\n    },\n    {\n      \"column\": \"Quantity\",\n      \"properties\": {\n        \"dtype\": \"number\",\n        \"std\": 1.5118586336410802,\n        \"min\": 1.0,\n        \"max\": 5.0,\n        \"num_unique_values\": 5,\n        \"samples\": [\n          5.0,\n          2.0\n        ],\n        \"semantic_type\": \"\",\n        \"description\": \"\"\n      }\n    },\n    {\n      \"column\": \"Discount\",\n      \"properties\": {\n        \"dtype\": \"number\",\n        \"std\": 0.13102661107658276,\n        \"min\": 0.1,\n        \"max\": 0.5,\n        \"num_unique_values\": 5,\n        \"samples\": [\n          0.1,\n          0.4\n        ],\n        \"semantic_type\": \"\",\n        \"description\": \"\"\n      }\n    },\n    {\n      \"column\": \"Profit\",\n      \"properties\": {\n        \"dtype\": \"number\",\n        \"std\": 48.72948829951063,\n        \"min\": 0.5,\n        \"max\": 167.5,\n        \"num_unique_values\": 391,\n        \"samples\": [\n          54.4,\n          30.6\n        ],\n        \"semantic_type\": \"\",\n        \"description\": \"\"\n      }\n    },\n    {\n      \"column\": \"Shipping_Cost\",\n      \"properties\": {\n        \"dtype\": \"number\",\n        \"std\": 4.871744672835288,\n        \"min\": 0.1,\n        \"max\": 16.8,\n        \"num_unique_values\": 153,\n        \"samples\": [\n          1.3,\n          7.3\n        ],\n        \"semantic_type\": \"\",\n        \"description\": \"\"\n      }\n    },\n    {\n      \"column\": \"Order_Priority\",\n      \"properties\": {\n        \"dtype\": \"category\",\n        \"num_unique_values\": 4,\n        \"samples\": [\n          \"Critical\",\n          \"Low\"\n        ],\n        \"semantic_type\": \"\",\n        \"description\": \"\"\n      }\n    },\n    {\n      \"column\": \"Payment_method\",\n      \"properties\": {\n        \"dtype\": \"category\",\n        \"num_unique_values\": 5,\n        \"samples\": [\n          \"money_order\",\n          \"not_defined\"\n        ],\n        \"semantic_type\": \"\",\n        \"description\": \"\"\n      }\n    }\n  ]\n}"
            }
          },
          "metadata": {},
          "execution_count": 11
        }
      ]
    },
    {
      "cell_type": "code",
      "source": [
        "df.info()"
      ],
      "metadata": {
        "colab": {
          "base_uri": "https://localhost:8080/"
        },
        "id": "dBg9ceO1QiSP",
        "outputId": "d5f94e95-04ab-445b-e079-62d9e073871f"
      },
      "execution_count": null,
      "outputs": [
        {
          "output_type": "stream",
          "name": "stdout",
          "text": [
            "<class 'pandas.core.frame.DataFrame'>\n",
            "RangeIndex: 51290 entries, 0 to 51289\n",
            "Data columns (total 16 columns):\n",
            " #   Column               Non-Null Count  Dtype  \n",
            "---  ------               --------------  -----  \n",
            " 0   Order_Date           51290 non-null  object \n",
            " 1   Time                 51290 non-null  object \n",
            " 2   Aging                51289 non-null  float64\n",
            " 3   Customer_Id          51290 non-null  int64  \n",
            " 4   Gender               51290 non-null  object \n",
            " 5   Device_Type          51290 non-null  object \n",
            " 6   Customer_Login_type  51290 non-null  object \n",
            " 7   Product_Category     51290 non-null  object \n",
            " 8   Product              51290 non-null  object \n",
            " 9   Sales                51289 non-null  float64\n",
            " 10  Quantity             51288 non-null  float64\n",
            " 11  Discount             51289 non-null  float64\n",
            " 12  Profit               51290 non-null  float64\n",
            " 13  Shipping_Cost        51289 non-null  float64\n",
            " 14  Order_Priority       51288 non-null  object \n",
            " 15  Payment_method       51290 non-null  object \n",
            "dtypes: float64(6), int64(1), object(9)\n",
            "memory usage: 6.3+ MB\n"
          ]
        }
      ]
    },
    {
      "cell_type": "code",
      "source": [
        "# check null values\n",
        "df.isnull().sum()"
      ],
      "metadata": {
        "colab": {
          "base_uri": "https://localhost:8080/",
          "height": 586
        },
        "id": "vES49MMCRXo-",
        "outputId": "3702e5bf-5e98-489c-e5ca-88526f1247dc"
      },
      "execution_count": null,
      "outputs": [
        {
          "output_type": "execute_result",
          "data": {
            "text/plain": [
              "Order_Date             0\n",
              "Time                   0\n",
              "Aging                  1\n",
              "Customer_Id            0\n",
              "Gender                 0\n",
              "Device_Type            0\n",
              "Customer_Login_type    0\n",
              "Product_Category       0\n",
              "Product                0\n",
              "Sales                  1\n",
              "Quantity               2\n",
              "Discount               1\n",
              "Profit                 0\n",
              "Shipping_Cost          1\n",
              "Order_Priority         2\n",
              "Payment_method         0\n",
              "dtype: int64"
            ],
            "text/html": [
              "<div>\n",
              "<style scoped>\n",
              "    .dataframe tbody tr th:only-of-type {\n",
              "        vertical-align: middle;\n",
              "    }\n",
              "\n",
              "    .dataframe tbody tr th {\n",
              "        vertical-align: top;\n",
              "    }\n",
              "\n",
              "    .dataframe thead th {\n",
              "        text-align: right;\n",
              "    }\n",
              "</style>\n",
              "<table border=\"1\" class=\"dataframe\">\n",
              "  <thead>\n",
              "    <tr style=\"text-align: right;\">\n",
              "      <th></th>\n",
              "      <th>0</th>\n",
              "    </tr>\n",
              "  </thead>\n",
              "  <tbody>\n",
              "    <tr>\n",
              "      <th>Order_Date</th>\n",
              "      <td>0</td>\n",
              "    </tr>\n",
              "    <tr>\n",
              "      <th>Time</th>\n",
              "      <td>0</td>\n",
              "    </tr>\n",
              "    <tr>\n",
              "      <th>Aging</th>\n",
              "      <td>1</td>\n",
              "    </tr>\n",
              "    <tr>\n",
              "      <th>Customer_Id</th>\n",
              "      <td>0</td>\n",
              "    </tr>\n",
              "    <tr>\n",
              "      <th>Gender</th>\n",
              "      <td>0</td>\n",
              "    </tr>\n",
              "    <tr>\n",
              "      <th>Device_Type</th>\n",
              "      <td>0</td>\n",
              "    </tr>\n",
              "    <tr>\n",
              "      <th>Customer_Login_type</th>\n",
              "      <td>0</td>\n",
              "    </tr>\n",
              "    <tr>\n",
              "      <th>Product_Category</th>\n",
              "      <td>0</td>\n",
              "    </tr>\n",
              "    <tr>\n",
              "      <th>Product</th>\n",
              "      <td>0</td>\n",
              "    </tr>\n",
              "    <tr>\n",
              "      <th>Sales</th>\n",
              "      <td>1</td>\n",
              "    </tr>\n",
              "    <tr>\n",
              "      <th>Quantity</th>\n",
              "      <td>2</td>\n",
              "    </tr>\n",
              "    <tr>\n",
              "      <th>Discount</th>\n",
              "      <td>1</td>\n",
              "    </tr>\n",
              "    <tr>\n",
              "      <th>Profit</th>\n",
              "      <td>0</td>\n",
              "    </tr>\n",
              "    <tr>\n",
              "      <th>Shipping_Cost</th>\n",
              "      <td>1</td>\n",
              "    </tr>\n",
              "    <tr>\n",
              "      <th>Order_Priority</th>\n",
              "      <td>2</td>\n",
              "    </tr>\n",
              "    <tr>\n",
              "      <th>Payment_method</th>\n",
              "      <td>0</td>\n",
              "    </tr>\n",
              "  </tbody>\n",
              "</table>\n",
              "</div><br><label><b>dtype:</b> int64</label>"
            ]
          },
          "metadata": {},
          "execution_count": 13
        }
      ]
    },
    {
      "cell_type": "markdown",
      "source": [
        "I see that there are some missing values. They seem to be very few in numbers, but when I think about a real-life scenario, this amount could be higher. For this reason, I want to look at how much missing data is in percentage terms."
      ],
      "metadata": {
        "id": "Ol1lTDMxRn1o"
      }
    },
    {
      "cell_type": "code",
      "source": [
        "missing_percentage = (df.isnull().sum() / len(df)) * 100\n",
        "missing_percentage"
      ],
      "metadata": {
        "colab": {
          "base_uri": "https://localhost:8080/",
          "height": 586
        },
        "id": "sl-HKTmkRnQe",
        "outputId": "33257c7a-c77d-4b40-da4c-551d70c3b0a1"
      },
      "execution_count": null,
      "outputs": [
        {
          "output_type": "execute_result",
          "data": {
            "text/plain": [
              "Order_Date             0.000000\n",
              "Time                   0.000000\n",
              "Aging                  0.001950\n",
              "Customer_Id            0.000000\n",
              "Gender                 0.000000\n",
              "Device_Type            0.000000\n",
              "Customer_Login_type    0.000000\n",
              "Product_Category       0.000000\n",
              "Product                0.000000\n",
              "Sales                  0.001950\n",
              "Quantity               0.003899\n",
              "Discount               0.001950\n",
              "Profit                 0.000000\n",
              "Shipping_Cost          0.001950\n",
              "Order_Priority         0.003899\n",
              "Payment_method         0.000000\n",
              "dtype: float64"
            ],
            "text/html": [
              "<div>\n",
              "<style scoped>\n",
              "    .dataframe tbody tr th:only-of-type {\n",
              "        vertical-align: middle;\n",
              "    }\n",
              "\n",
              "    .dataframe tbody tr th {\n",
              "        vertical-align: top;\n",
              "    }\n",
              "\n",
              "    .dataframe thead th {\n",
              "        text-align: right;\n",
              "    }\n",
              "</style>\n",
              "<table border=\"1\" class=\"dataframe\">\n",
              "  <thead>\n",
              "    <tr style=\"text-align: right;\">\n",
              "      <th></th>\n",
              "      <th>0</th>\n",
              "    </tr>\n",
              "  </thead>\n",
              "  <tbody>\n",
              "    <tr>\n",
              "      <th>Order_Date</th>\n",
              "      <td>0.000000</td>\n",
              "    </tr>\n",
              "    <tr>\n",
              "      <th>Time</th>\n",
              "      <td>0.000000</td>\n",
              "    </tr>\n",
              "    <tr>\n",
              "      <th>Aging</th>\n",
              "      <td>0.001950</td>\n",
              "    </tr>\n",
              "    <tr>\n",
              "      <th>Customer_Id</th>\n",
              "      <td>0.000000</td>\n",
              "    </tr>\n",
              "    <tr>\n",
              "      <th>Gender</th>\n",
              "      <td>0.000000</td>\n",
              "    </tr>\n",
              "    <tr>\n",
              "      <th>Device_Type</th>\n",
              "      <td>0.000000</td>\n",
              "    </tr>\n",
              "    <tr>\n",
              "      <th>Customer_Login_type</th>\n",
              "      <td>0.000000</td>\n",
              "    </tr>\n",
              "    <tr>\n",
              "      <th>Product_Category</th>\n",
              "      <td>0.000000</td>\n",
              "    </tr>\n",
              "    <tr>\n",
              "      <th>Product</th>\n",
              "      <td>0.000000</td>\n",
              "    </tr>\n",
              "    <tr>\n",
              "      <th>Sales</th>\n",
              "      <td>0.001950</td>\n",
              "    </tr>\n",
              "    <tr>\n",
              "      <th>Quantity</th>\n",
              "      <td>0.003899</td>\n",
              "    </tr>\n",
              "    <tr>\n",
              "      <th>Discount</th>\n",
              "      <td>0.001950</td>\n",
              "    </tr>\n",
              "    <tr>\n",
              "      <th>Profit</th>\n",
              "      <td>0.000000</td>\n",
              "    </tr>\n",
              "    <tr>\n",
              "      <th>Shipping_Cost</th>\n",
              "      <td>0.001950</td>\n",
              "    </tr>\n",
              "    <tr>\n",
              "      <th>Order_Priority</th>\n",
              "      <td>0.003899</td>\n",
              "    </tr>\n",
              "    <tr>\n",
              "      <th>Payment_method</th>\n",
              "      <td>0.000000</td>\n",
              "    </tr>\n",
              "  </tbody>\n",
              "</table>\n",
              "</div><br><label><b>dtype:</b> float64</label>"
            ]
          },
          "metadata": {},
          "execution_count": 14
        }
      ]
    },
    {
      "cell_type": "markdown",
      "source": [
        "When we look at the missing data rates, we see a maximum of 0.0039% missing data. Since this is a very low rate, it would be a logical option to completely remove the missing values. Our data loss will be negligible.\n",
        "\n",
        "If there was a value of 5% and above, we could evaluate options such as filling with mean or median."
      ],
      "metadata": {
        "id": "t5zVTJNsS2LH"
      }
    },
    {
      "cell_type": "code",
      "source": [
        "# replace the null values\n",
        "\n",
        "df.dropna(inplace=True)"
      ],
      "metadata": {
        "id": "4-GLZlRhRct6"
      },
      "execution_count": null,
      "outputs": []
    },
    {
      "cell_type": "code",
      "source": [
        "df.isnull().sum()"
      ],
      "metadata": {
        "colab": {
          "base_uri": "https://localhost:8080/",
          "height": 586
        },
        "id": "-MVJpWdwS-CG",
        "outputId": "bb5a9709-2b4d-4744-c985-a24b0945c676"
      },
      "execution_count": null,
      "outputs": [
        {
          "output_type": "execute_result",
          "data": {
            "text/plain": [
              "Order_Date             0\n",
              "Time                   0\n",
              "Aging                  0\n",
              "Customer_Id            0\n",
              "Gender                 0\n",
              "Device_Type            0\n",
              "Customer_Login_type    0\n",
              "Product_Category       0\n",
              "Product                0\n",
              "Sales                  0\n",
              "Quantity               0\n",
              "Discount               0\n",
              "Profit                 0\n",
              "Shipping_Cost          0\n",
              "Order_Priority         0\n",
              "Payment_method         0\n",
              "dtype: int64"
            ],
            "text/html": [
              "<div>\n",
              "<style scoped>\n",
              "    .dataframe tbody tr th:only-of-type {\n",
              "        vertical-align: middle;\n",
              "    }\n",
              "\n",
              "    .dataframe tbody tr th {\n",
              "        vertical-align: top;\n",
              "    }\n",
              "\n",
              "    .dataframe thead th {\n",
              "        text-align: right;\n",
              "    }\n",
              "</style>\n",
              "<table border=\"1\" class=\"dataframe\">\n",
              "  <thead>\n",
              "    <tr style=\"text-align: right;\">\n",
              "      <th></th>\n",
              "      <th>0</th>\n",
              "    </tr>\n",
              "  </thead>\n",
              "  <tbody>\n",
              "    <tr>\n",
              "      <th>Order_Date</th>\n",
              "      <td>0</td>\n",
              "    </tr>\n",
              "    <tr>\n",
              "      <th>Time</th>\n",
              "      <td>0</td>\n",
              "    </tr>\n",
              "    <tr>\n",
              "      <th>Aging</th>\n",
              "      <td>0</td>\n",
              "    </tr>\n",
              "    <tr>\n",
              "      <th>Customer_Id</th>\n",
              "      <td>0</td>\n",
              "    </tr>\n",
              "    <tr>\n",
              "      <th>Gender</th>\n",
              "      <td>0</td>\n",
              "    </tr>\n",
              "    <tr>\n",
              "      <th>Device_Type</th>\n",
              "      <td>0</td>\n",
              "    </tr>\n",
              "    <tr>\n",
              "      <th>Customer_Login_type</th>\n",
              "      <td>0</td>\n",
              "    </tr>\n",
              "    <tr>\n",
              "      <th>Product_Category</th>\n",
              "      <td>0</td>\n",
              "    </tr>\n",
              "    <tr>\n",
              "      <th>Product</th>\n",
              "      <td>0</td>\n",
              "    </tr>\n",
              "    <tr>\n",
              "      <th>Sales</th>\n",
              "      <td>0</td>\n",
              "    </tr>\n",
              "    <tr>\n",
              "      <th>Quantity</th>\n",
              "      <td>0</td>\n",
              "    </tr>\n",
              "    <tr>\n",
              "      <th>Discount</th>\n",
              "      <td>0</td>\n",
              "    </tr>\n",
              "    <tr>\n",
              "      <th>Profit</th>\n",
              "      <td>0</td>\n",
              "    </tr>\n",
              "    <tr>\n",
              "      <th>Shipping_Cost</th>\n",
              "      <td>0</td>\n",
              "    </tr>\n",
              "    <tr>\n",
              "      <th>Order_Priority</th>\n",
              "      <td>0</td>\n",
              "    </tr>\n",
              "    <tr>\n",
              "      <th>Payment_method</th>\n",
              "      <td>0</td>\n",
              "    </tr>\n",
              "  </tbody>\n",
              "</table>\n",
              "</div><br><label><b>dtype:</b> int64</label>"
            ]
          },
          "metadata": {},
          "execution_count": 16
        }
      ]
    },
    {
      "cell_type": "markdown",
      "source": [
        "We have cleaned the null values. Now we need to examine the data types."
      ],
      "metadata": {
        "id": "YwN971POTIWI"
      }
    },
    {
      "cell_type": "code",
      "source": [
        "df.dtypes"
      ],
      "metadata": {
        "colab": {
          "base_uri": "https://localhost:8080/",
          "height": 586
        },
        "id": "YSnOW29zTBmG",
        "outputId": "960a855d-aef5-40a2-a0fc-d7151436b279"
      },
      "execution_count": null,
      "outputs": [
        {
          "output_type": "execute_result",
          "data": {
            "text/plain": [
              "Order_Date              object\n",
              "Time                    object\n",
              "Aging                  float64\n",
              "Customer_Id              int64\n",
              "Gender                  object\n",
              "Device_Type             object\n",
              "Customer_Login_type     object\n",
              "Product_Category        object\n",
              "Product                 object\n",
              "Sales                  float64\n",
              "Quantity               float64\n",
              "Discount               float64\n",
              "Profit                 float64\n",
              "Shipping_Cost          float64\n",
              "Order_Priority          object\n",
              "Payment_method          object\n",
              "dtype: object"
            ],
            "text/html": [
              "<div>\n",
              "<style scoped>\n",
              "    .dataframe tbody tr th:only-of-type {\n",
              "        vertical-align: middle;\n",
              "    }\n",
              "\n",
              "    .dataframe tbody tr th {\n",
              "        vertical-align: top;\n",
              "    }\n",
              "\n",
              "    .dataframe thead th {\n",
              "        text-align: right;\n",
              "    }\n",
              "</style>\n",
              "<table border=\"1\" class=\"dataframe\">\n",
              "  <thead>\n",
              "    <tr style=\"text-align: right;\">\n",
              "      <th></th>\n",
              "      <th>0</th>\n",
              "    </tr>\n",
              "  </thead>\n",
              "  <tbody>\n",
              "    <tr>\n",
              "      <th>Order_Date</th>\n",
              "      <td>object</td>\n",
              "    </tr>\n",
              "    <tr>\n",
              "      <th>Time</th>\n",
              "      <td>object</td>\n",
              "    </tr>\n",
              "    <tr>\n",
              "      <th>Aging</th>\n",
              "      <td>float64</td>\n",
              "    </tr>\n",
              "    <tr>\n",
              "      <th>Customer_Id</th>\n",
              "      <td>int64</td>\n",
              "    </tr>\n",
              "    <tr>\n",
              "      <th>Gender</th>\n",
              "      <td>object</td>\n",
              "    </tr>\n",
              "    <tr>\n",
              "      <th>Device_Type</th>\n",
              "      <td>object</td>\n",
              "    </tr>\n",
              "    <tr>\n",
              "      <th>Customer_Login_type</th>\n",
              "      <td>object</td>\n",
              "    </tr>\n",
              "    <tr>\n",
              "      <th>Product_Category</th>\n",
              "      <td>object</td>\n",
              "    </tr>\n",
              "    <tr>\n",
              "      <th>Product</th>\n",
              "      <td>object</td>\n",
              "    </tr>\n",
              "    <tr>\n",
              "      <th>Sales</th>\n",
              "      <td>float64</td>\n",
              "    </tr>\n",
              "    <tr>\n",
              "      <th>Quantity</th>\n",
              "      <td>float64</td>\n",
              "    </tr>\n",
              "    <tr>\n",
              "      <th>Discount</th>\n",
              "      <td>float64</td>\n",
              "    </tr>\n",
              "    <tr>\n",
              "      <th>Profit</th>\n",
              "      <td>float64</td>\n",
              "    </tr>\n",
              "    <tr>\n",
              "      <th>Shipping_Cost</th>\n",
              "      <td>float64</td>\n",
              "    </tr>\n",
              "    <tr>\n",
              "      <th>Order_Priority</th>\n",
              "      <td>object</td>\n",
              "    </tr>\n",
              "    <tr>\n",
              "      <th>Payment_method</th>\n",
              "      <td>object</td>\n",
              "    </tr>\n",
              "  </tbody>\n",
              "</table>\n",
              "</div><br><label><b>dtype:</b> object</label>"
            ]
          },
          "metadata": {},
          "execution_count": 18
        }
      ]
    },
    {
      "cell_type": "markdown",
      "source": [
        "When I examined the data types, I noticed the following:\n",
        "\n",
        "- Date and time data should be in datetime format, not object.\n",
        "\n",
        "- Quantity data should be integer, but it appears as float64.\n",
        "\n",
        "- Categorical variables (Gender, Device_Type, Customer_Login_type, Order_Priority, Payment_method) should be in category format, not object"
      ],
      "metadata": {
        "id": "qp8hEHNTUpC0"
      }
    },
    {
      "cell_type": "code",
      "source": [
        "# date and time values\n",
        "\n",
        "df['Order_Date'] = pd.to_datetime(df['Order_Date'])\n",
        "\n",
        "df['Time'] = pd.to_datetime(df['Time'], format='%H:%M:%S')"
      ],
      "metadata": {
        "id": "e3sbc3rdTQMS"
      },
      "execution_count": null,
      "outputs": []
    },
    {
      "cell_type": "code",
      "source": [
        "# quantity values\n",
        "\n",
        "df['Quantity'] = df['Quantity'].astype(int)"
      ],
      "metadata": {
        "id": "PhGw3uIdVyG-"
      },
      "execution_count": null,
      "outputs": []
    },
    {
      "cell_type": "code",
      "source": [
        "# category values\n",
        "\n",
        "categorical_columns = ['Gender', 'Device_Type', 'Customer_Login_type', 'Order_Priority', 'Payment_method', 'Product', 'Product_Category']\n",
        "for col in categorical_columns:\n",
        "  df[col] = df[col].astype('category')"
      ],
      "metadata": {
        "id": "kIrJenpIV0SL"
      },
      "execution_count": null,
      "outputs": []
    },
    {
      "cell_type": "code",
      "source": [
        "df.dtypes"
      ],
      "metadata": {
        "colab": {
          "base_uri": "https://localhost:8080/",
          "height": 586
        },
        "id": "sD2z_2nwV_dM",
        "outputId": "2e089c1d-f210-4ee9-b78d-45016ffcd715"
      },
      "execution_count": null,
      "outputs": [
        {
          "output_type": "execute_result",
          "data": {
            "text/plain": [
              "Order_Date             datetime64[ns]\n",
              "Time                   datetime64[ns]\n",
              "Aging                         float64\n",
              "Customer_Id                     int64\n",
              "Gender                       category\n",
              "Device_Type                  category\n",
              "Customer_Login_type          category\n",
              "Product_Category             category\n",
              "Product                      category\n",
              "Sales                         float64\n",
              "Quantity                        int64\n",
              "Discount                      float64\n",
              "Profit                        float64\n",
              "Shipping_Cost                 float64\n",
              "Order_Priority               category\n",
              "Payment_method               category\n",
              "dtype: object"
            ],
            "text/html": [
              "<div>\n",
              "<style scoped>\n",
              "    .dataframe tbody tr th:only-of-type {\n",
              "        vertical-align: middle;\n",
              "    }\n",
              "\n",
              "    .dataframe tbody tr th {\n",
              "        vertical-align: top;\n",
              "    }\n",
              "\n",
              "    .dataframe thead th {\n",
              "        text-align: right;\n",
              "    }\n",
              "</style>\n",
              "<table border=\"1\" class=\"dataframe\">\n",
              "  <thead>\n",
              "    <tr style=\"text-align: right;\">\n",
              "      <th></th>\n",
              "      <th>0</th>\n",
              "    </tr>\n",
              "  </thead>\n",
              "  <tbody>\n",
              "    <tr>\n",
              "      <th>Order_Date</th>\n",
              "      <td>datetime64[ns]</td>\n",
              "    </tr>\n",
              "    <tr>\n",
              "      <th>Time</th>\n",
              "      <td>datetime64[ns]</td>\n",
              "    </tr>\n",
              "    <tr>\n",
              "      <th>Aging</th>\n",
              "      <td>float64</td>\n",
              "    </tr>\n",
              "    <tr>\n",
              "      <th>Customer_Id</th>\n",
              "      <td>int64</td>\n",
              "    </tr>\n",
              "    <tr>\n",
              "      <th>Gender</th>\n",
              "      <td>category</td>\n",
              "    </tr>\n",
              "    <tr>\n",
              "      <th>Device_Type</th>\n",
              "      <td>category</td>\n",
              "    </tr>\n",
              "    <tr>\n",
              "      <th>Customer_Login_type</th>\n",
              "      <td>category</td>\n",
              "    </tr>\n",
              "    <tr>\n",
              "      <th>Product_Category</th>\n",
              "      <td>category</td>\n",
              "    </tr>\n",
              "    <tr>\n",
              "      <th>Product</th>\n",
              "      <td>category</td>\n",
              "    </tr>\n",
              "    <tr>\n",
              "      <th>Sales</th>\n",
              "      <td>float64</td>\n",
              "    </tr>\n",
              "    <tr>\n",
              "      <th>Quantity</th>\n",
              "      <td>int64</td>\n",
              "    </tr>\n",
              "    <tr>\n",
              "      <th>Discount</th>\n",
              "      <td>float64</td>\n",
              "    </tr>\n",
              "    <tr>\n",
              "      <th>Profit</th>\n",
              "      <td>float64</td>\n",
              "    </tr>\n",
              "    <tr>\n",
              "      <th>Shipping_Cost</th>\n",
              "      <td>float64</td>\n",
              "    </tr>\n",
              "    <tr>\n",
              "      <th>Order_Priority</th>\n",
              "      <td>category</td>\n",
              "    </tr>\n",
              "    <tr>\n",
              "      <th>Payment_method</th>\n",
              "      <td>category</td>\n",
              "    </tr>\n",
              "  </tbody>\n",
              "</table>\n",
              "</div><br><label><b>dtype:</b> object</label>"
            ]
          },
          "metadata": {},
          "execution_count": 33
        }
      ]
    },
    {
      "cell_type": "markdown",
      "source": [
        "Now, let's check statistical values"
      ],
      "metadata": {
        "id": "RWsf_Ga6Wu-L"
      }
    },
    {
      "cell_type": "code",
      "source": [
        "df.describe()"
      ],
      "metadata": {
        "colab": {
          "base_uri": "https://localhost:8080/",
          "height": 424
        },
        "id": "ik6XPFcOWC-D",
        "outputId": "543bb542-0c02-4b22-c93a-85bac280414e"
      },
      "execution_count": null,
      "outputs": [
        {
          "output_type": "execute_result",
          "data": {
            "text/plain": [
              "                          Order_Date                           Time  \\\n",
              "count                          51282                          51282   \n",
              "mean   2018-07-23 11:35:56.124956160  1900-01-01 15:16:28.640127232   \n",
              "min              2018-01-01 00:00:00            1900-01-01 00:00:06   \n",
              "25%              2018-05-07 00:00:00     1900-01-01 11:39:10.500000   \n",
              "50%              2018-07-28 00:00:00            1900-01-01 15:32:25   \n",
              "75%              2018-10-17 00:00:00            1900-01-01 19:36:59   \n",
              "max              2018-12-30 00:00:00            1900-01-01 23:59:58   \n",
              "std                              NaN                            NaN   \n",
              "\n",
              "              Aging   Customer_Id         Sales      Quantity      Discount  \\\n",
              "count  51282.000000  51282.000000  51282.000000  51282.000000  51282.000000   \n",
              "mean       5.255187  58159.746656    152.337350      2.502964      0.303838   \n",
              "min        1.000000  10000.000000     33.000000      1.000000      0.100000   \n",
              "25%        3.000000  35841.500000     85.000000      1.000000      0.200000   \n",
              "50%        5.000000  61021.500000    133.000000      2.000000      0.300000   \n",
              "75%        8.000000  80739.250000    218.000000      4.000000      0.400000   \n",
              "max       10.500000  99999.000000    250.000000      5.000000      0.500000   \n",
              "std        2.960073  26031.763189     66.492468      1.511834      0.131025   \n",
              "\n",
              "             Profit  Shipping_Cost  \n",
              "count  51282.000000   51282.000000  \n",
              "mean      70.401796       7.041166  \n",
              "min        0.500000       0.100000  \n",
              "25%       24.900000       2.500000  \n",
              "50%       59.900000       6.000000  \n",
              "75%      118.400000      11.800000  \n",
              "max      167.500000      16.800000  \n",
              "std       48.728131       4.871685  "
            ],
            "text/html": [
              "\n",
              "  <div id=\"df-a63f51a5-c95c-4054-9fc0-91ad857a94da\" class=\"colab-df-container\">\n",
              "    <div>\n",
              "<style scoped>\n",
              "    .dataframe tbody tr th:only-of-type {\n",
              "        vertical-align: middle;\n",
              "    }\n",
              "\n",
              "    .dataframe tbody tr th {\n",
              "        vertical-align: top;\n",
              "    }\n",
              "\n",
              "    .dataframe thead th {\n",
              "        text-align: right;\n",
              "    }\n",
              "</style>\n",
              "<table border=\"1\" class=\"dataframe\">\n",
              "  <thead>\n",
              "    <tr style=\"text-align: right;\">\n",
              "      <th></th>\n",
              "      <th>Order_Date</th>\n",
              "      <th>Time</th>\n",
              "      <th>Aging</th>\n",
              "      <th>Customer_Id</th>\n",
              "      <th>Sales</th>\n",
              "      <th>Quantity</th>\n",
              "      <th>Discount</th>\n",
              "      <th>Profit</th>\n",
              "      <th>Shipping_Cost</th>\n",
              "    </tr>\n",
              "  </thead>\n",
              "  <tbody>\n",
              "    <tr>\n",
              "      <th>count</th>\n",
              "      <td>51282</td>\n",
              "      <td>51282</td>\n",
              "      <td>51282.000000</td>\n",
              "      <td>51282.000000</td>\n",
              "      <td>51282.000000</td>\n",
              "      <td>51282.000000</td>\n",
              "      <td>51282.000000</td>\n",
              "      <td>51282.000000</td>\n",
              "      <td>51282.000000</td>\n",
              "    </tr>\n",
              "    <tr>\n",
              "      <th>mean</th>\n",
              "      <td>2018-07-23 11:35:56.124956160</td>\n",
              "      <td>1900-01-01 15:16:28.640127232</td>\n",
              "      <td>5.255187</td>\n",
              "      <td>58159.746656</td>\n",
              "      <td>152.337350</td>\n",
              "      <td>2.502964</td>\n",
              "      <td>0.303838</td>\n",
              "      <td>70.401796</td>\n",
              "      <td>7.041166</td>\n",
              "    </tr>\n",
              "    <tr>\n",
              "      <th>min</th>\n",
              "      <td>2018-01-01 00:00:00</td>\n",
              "      <td>1900-01-01 00:00:06</td>\n",
              "      <td>1.000000</td>\n",
              "      <td>10000.000000</td>\n",
              "      <td>33.000000</td>\n",
              "      <td>1.000000</td>\n",
              "      <td>0.100000</td>\n",
              "      <td>0.500000</td>\n",
              "      <td>0.100000</td>\n",
              "    </tr>\n",
              "    <tr>\n",
              "      <th>25%</th>\n",
              "      <td>2018-05-07 00:00:00</td>\n",
              "      <td>1900-01-01 11:39:10.500000</td>\n",
              "      <td>3.000000</td>\n",
              "      <td>35841.500000</td>\n",
              "      <td>85.000000</td>\n",
              "      <td>1.000000</td>\n",
              "      <td>0.200000</td>\n",
              "      <td>24.900000</td>\n",
              "      <td>2.500000</td>\n",
              "    </tr>\n",
              "    <tr>\n",
              "      <th>50%</th>\n",
              "      <td>2018-07-28 00:00:00</td>\n",
              "      <td>1900-01-01 15:32:25</td>\n",
              "      <td>5.000000</td>\n",
              "      <td>61021.500000</td>\n",
              "      <td>133.000000</td>\n",
              "      <td>2.000000</td>\n",
              "      <td>0.300000</td>\n",
              "      <td>59.900000</td>\n",
              "      <td>6.000000</td>\n",
              "    </tr>\n",
              "    <tr>\n",
              "      <th>75%</th>\n",
              "      <td>2018-10-17 00:00:00</td>\n",
              "      <td>1900-01-01 19:36:59</td>\n",
              "      <td>8.000000</td>\n",
              "      <td>80739.250000</td>\n",
              "      <td>218.000000</td>\n",
              "      <td>4.000000</td>\n",
              "      <td>0.400000</td>\n",
              "      <td>118.400000</td>\n",
              "      <td>11.800000</td>\n",
              "    </tr>\n",
              "    <tr>\n",
              "      <th>max</th>\n",
              "      <td>2018-12-30 00:00:00</td>\n",
              "      <td>1900-01-01 23:59:58</td>\n",
              "      <td>10.500000</td>\n",
              "      <td>99999.000000</td>\n",
              "      <td>250.000000</td>\n",
              "      <td>5.000000</td>\n",
              "      <td>0.500000</td>\n",
              "      <td>167.500000</td>\n",
              "      <td>16.800000</td>\n",
              "    </tr>\n",
              "    <tr>\n",
              "      <th>std</th>\n",
              "      <td>NaN</td>\n",
              "      <td>NaN</td>\n",
              "      <td>2.960073</td>\n",
              "      <td>26031.763189</td>\n",
              "      <td>66.492468</td>\n",
              "      <td>1.511834</td>\n",
              "      <td>0.131025</td>\n",
              "      <td>48.728131</td>\n",
              "      <td>4.871685</td>\n",
              "    </tr>\n",
              "  </tbody>\n",
              "</table>\n",
              "</div>\n",
              "    <div class=\"colab-df-buttons\">\n",
              "\n",
              "  <div class=\"colab-df-container\">\n",
              "    <button class=\"colab-df-convert\" onclick=\"convertToInteractive('df-a63f51a5-c95c-4054-9fc0-91ad857a94da')\"\n",
              "            title=\"Convert this dataframe to an interactive table.\"\n",
              "            style=\"display:none;\">\n",
              "\n",
              "  <svg xmlns=\"http://www.w3.org/2000/svg\" height=\"24px\" viewBox=\"0 -960 960 960\">\n",
              "    <path d=\"M120-120v-720h720v720H120Zm60-500h600v-160H180v160Zm220 220h160v-160H400v160Zm0 220h160v-160H400v160ZM180-400h160v-160H180v160Zm440 0h160v-160H620v160ZM180-180h160v-160H180v160Zm440 0h160v-160H620v160Z\"/>\n",
              "  </svg>\n",
              "    </button>\n",
              "\n",
              "  <style>\n",
              "    .colab-df-container {\n",
              "      display:flex;\n",
              "      gap: 12px;\n",
              "    }\n",
              "\n",
              "    .colab-df-convert {\n",
              "      background-color: #E8F0FE;\n",
              "      border: none;\n",
              "      border-radius: 50%;\n",
              "      cursor: pointer;\n",
              "      display: none;\n",
              "      fill: #1967D2;\n",
              "      height: 32px;\n",
              "      padding: 0 0 0 0;\n",
              "      width: 32px;\n",
              "    }\n",
              "\n",
              "    .colab-df-convert:hover {\n",
              "      background-color: #E2EBFA;\n",
              "      box-shadow: 0px 1px 2px rgba(60, 64, 67, 0.3), 0px 1px 3px 1px rgba(60, 64, 67, 0.15);\n",
              "      fill: #174EA6;\n",
              "    }\n",
              "\n",
              "    .colab-df-buttons div {\n",
              "      margin-bottom: 4px;\n",
              "    }\n",
              "\n",
              "    [theme=dark] .colab-df-convert {\n",
              "      background-color: #3B4455;\n",
              "      fill: #D2E3FC;\n",
              "    }\n",
              "\n",
              "    [theme=dark] .colab-df-convert:hover {\n",
              "      background-color: #434B5C;\n",
              "      box-shadow: 0px 1px 3px 1px rgba(0, 0, 0, 0.15);\n",
              "      filter: drop-shadow(0px 1px 2px rgba(0, 0, 0, 0.3));\n",
              "      fill: #FFFFFF;\n",
              "    }\n",
              "  </style>\n",
              "\n",
              "    <script>\n",
              "      const buttonEl =\n",
              "        document.querySelector('#df-a63f51a5-c95c-4054-9fc0-91ad857a94da button.colab-df-convert');\n",
              "      buttonEl.style.display =\n",
              "        google.colab.kernel.accessAllowed ? 'block' : 'none';\n",
              "\n",
              "      async function convertToInteractive(key) {\n",
              "        const element = document.querySelector('#df-a63f51a5-c95c-4054-9fc0-91ad857a94da');\n",
              "        const dataTable =\n",
              "          await google.colab.kernel.invokeFunction('convertToInteractive',\n",
              "                                                    [key], {});\n",
              "        if (!dataTable) return;\n",
              "\n",
              "        const docLinkHtml = 'Like what you see? Visit the ' +\n",
              "          '<a target=\"_blank\" href=https://colab.research.google.com/notebooks/data_table.ipynb>data table notebook</a>'\n",
              "          + ' to learn more about interactive tables.';\n",
              "        element.innerHTML = '';\n",
              "        dataTable['output_type'] = 'display_data';\n",
              "        await google.colab.output.renderOutput(dataTable, element);\n",
              "        const docLink = document.createElement('div');\n",
              "        docLink.innerHTML = docLinkHtml;\n",
              "        element.appendChild(docLink);\n",
              "      }\n",
              "    </script>\n",
              "  </div>\n",
              "\n",
              "\n",
              "<div id=\"df-d148f93b-4533-468c-a95e-8f7a86e3be97\">\n",
              "  <button class=\"colab-df-quickchart\" onclick=\"quickchart('df-d148f93b-4533-468c-a95e-8f7a86e3be97')\"\n",
              "            title=\"Suggest charts\"\n",
              "            style=\"display:none;\">\n",
              "\n",
              "<svg xmlns=\"http://www.w3.org/2000/svg\" height=\"24px\"viewBox=\"0 0 24 24\"\n",
              "     width=\"24px\">\n",
              "    <g>\n",
              "        <path d=\"M19 3H5c-1.1 0-2 .9-2 2v14c0 1.1.9 2 2 2h14c1.1 0 2-.9 2-2V5c0-1.1-.9-2-2-2zM9 17H7v-7h2v7zm4 0h-2V7h2v10zm4 0h-2v-4h2v4z\"/>\n",
              "    </g>\n",
              "</svg>\n",
              "  </button>\n",
              "\n",
              "<style>\n",
              "  .colab-df-quickchart {\n",
              "      --bg-color: #E8F0FE;\n",
              "      --fill-color: #1967D2;\n",
              "      --hover-bg-color: #E2EBFA;\n",
              "      --hover-fill-color: #174EA6;\n",
              "      --disabled-fill-color: #AAA;\n",
              "      --disabled-bg-color: #DDD;\n",
              "  }\n",
              "\n",
              "  [theme=dark] .colab-df-quickchart {\n",
              "      --bg-color: #3B4455;\n",
              "      --fill-color: #D2E3FC;\n",
              "      --hover-bg-color: #434B5C;\n",
              "      --hover-fill-color: #FFFFFF;\n",
              "      --disabled-bg-color: #3B4455;\n",
              "      --disabled-fill-color: #666;\n",
              "  }\n",
              "\n",
              "  .colab-df-quickchart {\n",
              "    background-color: var(--bg-color);\n",
              "    border: none;\n",
              "    border-radius: 50%;\n",
              "    cursor: pointer;\n",
              "    display: none;\n",
              "    fill: var(--fill-color);\n",
              "    height: 32px;\n",
              "    padding: 0;\n",
              "    width: 32px;\n",
              "  }\n",
              "\n",
              "  .colab-df-quickchart:hover {\n",
              "    background-color: var(--hover-bg-color);\n",
              "    box-shadow: 0 1px 2px rgba(60, 64, 67, 0.3), 0 1px 3px 1px rgba(60, 64, 67, 0.15);\n",
              "    fill: var(--button-hover-fill-color);\n",
              "  }\n",
              "\n",
              "  .colab-df-quickchart-complete:disabled,\n",
              "  .colab-df-quickchart-complete:disabled:hover {\n",
              "    background-color: var(--disabled-bg-color);\n",
              "    fill: var(--disabled-fill-color);\n",
              "    box-shadow: none;\n",
              "  }\n",
              "\n",
              "  .colab-df-spinner {\n",
              "    border: 2px solid var(--fill-color);\n",
              "    border-color: transparent;\n",
              "    border-bottom-color: var(--fill-color);\n",
              "    animation:\n",
              "      spin 1s steps(1) infinite;\n",
              "  }\n",
              "\n",
              "  @keyframes spin {\n",
              "    0% {\n",
              "      border-color: transparent;\n",
              "      border-bottom-color: var(--fill-color);\n",
              "      border-left-color: var(--fill-color);\n",
              "    }\n",
              "    20% {\n",
              "      border-color: transparent;\n",
              "      border-left-color: var(--fill-color);\n",
              "      border-top-color: var(--fill-color);\n",
              "    }\n",
              "    30% {\n",
              "      border-color: transparent;\n",
              "      border-left-color: var(--fill-color);\n",
              "      border-top-color: var(--fill-color);\n",
              "      border-right-color: var(--fill-color);\n",
              "    }\n",
              "    40% {\n",
              "      border-color: transparent;\n",
              "      border-right-color: var(--fill-color);\n",
              "      border-top-color: var(--fill-color);\n",
              "    }\n",
              "    60% {\n",
              "      border-color: transparent;\n",
              "      border-right-color: var(--fill-color);\n",
              "    }\n",
              "    80% {\n",
              "      border-color: transparent;\n",
              "      border-right-color: var(--fill-color);\n",
              "      border-bottom-color: var(--fill-color);\n",
              "    }\n",
              "    90% {\n",
              "      border-color: transparent;\n",
              "      border-bottom-color: var(--fill-color);\n",
              "    }\n",
              "  }\n",
              "</style>\n",
              "\n",
              "  <script>\n",
              "    async function quickchart(key) {\n",
              "      const quickchartButtonEl =\n",
              "        document.querySelector('#' + key + ' button');\n",
              "      quickchartButtonEl.disabled = true;  // To prevent multiple clicks.\n",
              "      quickchartButtonEl.classList.add('colab-df-spinner');\n",
              "      try {\n",
              "        const charts = await google.colab.kernel.invokeFunction(\n",
              "            'suggestCharts', [key], {});\n",
              "      } catch (error) {\n",
              "        console.error('Error during call to suggestCharts:', error);\n",
              "      }\n",
              "      quickchartButtonEl.classList.remove('colab-df-spinner');\n",
              "      quickchartButtonEl.classList.add('colab-df-quickchart-complete');\n",
              "    }\n",
              "    (() => {\n",
              "      let quickchartButtonEl =\n",
              "        document.querySelector('#df-d148f93b-4533-468c-a95e-8f7a86e3be97 button');\n",
              "      quickchartButtonEl.style.display =\n",
              "        google.colab.kernel.accessAllowed ? 'block' : 'none';\n",
              "    })();\n",
              "  </script>\n",
              "</div>\n",
              "\n",
              "    </div>\n",
              "  </div>\n"
            ],
            "application/vnd.google.colaboratory.intrinsic+json": {
              "type": "dataframe",
              "summary": "{\n  \"name\": \"df\",\n  \"rows\": 8,\n  \"fields\": [\n    {\n      \"column\": \"Order_Date\",\n      \"properties\": {\n        \"dtype\": \"date\",\n        \"min\": \"1970-01-01 00:00:00.000051282\",\n        \"max\": \"2018-12-30 00:00:00\",\n        \"num_unique_values\": 7,\n        \"samples\": [\n          \"51282\",\n          \"2018-07-23 11:35:56.124956160\",\n          \"2018-10-17 00:00:00\"\n        ],\n        \"semantic_type\": \"\",\n        \"description\": \"\"\n      }\n    },\n    {\n      \"column\": \"Time\",\n      \"properties\": {\n        \"dtype\": \"date\",\n        \"min\": \"1900-01-01 00:00:06\",\n        \"max\": \"1970-01-01 00:00:00.000051282\",\n        \"num_unique_values\": 7,\n        \"samples\": [\n          \"51282\",\n          \"1900-01-01 15:16:28.640127232\",\n          \"1900-01-01 19:36:59\"\n        ],\n        \"semantic_type\": \"\",\n        \"description\": \"\"\n      }\n    },\n    {\n      \"column\": \"Aging\",\n      \"properties\": {\n        \"dtype\": \"number\",\n        \"std\": 18129.12133317852,\n        \"min\": 1.0,\n        \"max\": 51282.0,\n        \"num_unique_values\": 8,\n        \"samples\": [\n          5.255187005187005,\n          8.0,\n          51282.0\n        ],\n        \"semantic_type\": \"\",\n        \"description\": \"\"\n      }\n    },\n    {\n      \"column\": \"Customer_Id\",\n      \"properties\": {\n        \"dtype\": \"number\",\n        \"std\": 29137.319892558502,\n        \"min\": 10000.0,\n        \"max\": 99999.0,\n        \"num_unique_values\": 8,\n        \"samples\": [\n          58159.746655746654,\n          80739.25,\n          51282.0\n        ],\n        \"semantic_type\": \"\",\n        \"description\": \"\"\n      }\n    },\n    {\n      \"column\": \"Sales\",\n      \"properties\": {\n        \"dtype\": \"number\",\n        \"std\": 18083.7075474477,\n        \"min\": 33.0,\n        \"max\": 51282.0,\n        \"num_unique_values\": 8,\n        \"samples\": [\n          152.33735033735033,\n          218.0,\n          51282.0\n        ],\n        \"semantic_type\": \"\",\n        \"description\": \"\"\n      }\n    },\n    {\n      \"column\": \"Quantity\",\n      \"properties\": {\n        \"dtype\": \"number\",\n        \"std\": 18130.065655233182,\n        \"min\": 1.0,\n        \"max\": 51282.0,\n        \"num_unique_values\": 7,\n        \"samples\": [\n          51282.0,\n          2.502964002964003,\n          5.0\n        ],\n        \"semantic_type\": \"\",\n        \"description\": \"\"\n      }\n    },\n    {\n      \"column\": \"Discount\",\n      \"properties\": {\n        \"dtype\": \"number\",\n        \"std\": 18130.827251592844,\n        \"min\": 0.1,\n        \"max\": 51282.0,\n        \"num_unique_values\": 8,\n        \"samples\": [\n          0.3038376038376039,\n          0.4,\n          51282.0\n        ],\n        \"semantic_type\": \"\",\n        \"description\": \"\"\n      }\n    },\n    {\n      \"column\": \"Profit\",\n      \"properties\": {\n        \"dtype\": \"number\",\n        \"std\": 18106.23558597319,\n        \"min\": 0.5,\n        \"max\": 51282.0,\n        \"num_unique_values\": 8,\n        \"samples\": [\n          70.40179595179596,\n          118.4,\n          51282.0\n        ],\n        \"semantic_type\": \"\",\n        \"description\": \"\"\n      }\n    },\n    {\n      \"column\": \"Shipping_Cost\",\n      \"properties\": {\n        \"dtype\": \"number\",\n        \"std\": 18128.445161146577,\n        \"min\": 0.1,\n        \"max\": 51282.0,\n        \"num_unique_values\": 8,\n        \"samples\": [\n          7.041166491166491,\n          11.8,\n          51282.0\n        ],\n        \"semantic_type\": \"\",\n        \"description\": \"\"\n      }\n    }\n  ]\n}"
            }
          },
          "metadata": {},
          "execution_count": 34
        }
      ]
    },
    {
      "cell_type": "code",
      "source": [
        "# number of unique values for categories\n",
        "\n",
        "print(df.select_dtypes(include=['category']).nunique())"
      ],
      "metadata": {
        "colab": {
          "base_uri": "https://localhost:8080/"
        },
        "id": "xaSU0inlW2p8",
        "outputId": "1cf809d7-778f-41ff-daae-2f98f8de1034"
      },
      "execution_count": null,
      "outputs": [
        {
          "output_type": "stream",
          "name": "stdout",
          "text": [
            "Gender                  2\n",
            "Device_Type             2\n",
            "Customer_Login_type     4\n",
            "Product_Category        4\n",
            "Product                42\n",
            "Order_Priority          4\n",
            "Payment_method          5\n",
            "dtype: int64\n"
          ]
        }
      ]
    },
    {
      "cell_type": "markdown",
      "source": [
        "Let's look at the top 10 product sold"
      ],
      "metadata": {
        "id": "DEFBuFU_XQ-B"
      }
    },
    {
      "cell_type": "markdown",
      "source": [
        "## Exploratory Data Analysis (EDA)"
      ],
      "metadata": {
        "id": "KnpE2mOIowcn"
      }
    },
    {
      "cell_type": "code",
      "source": [
        "top_products = df['Product'].value_counts().head(10)"
      ],
      "metadata": {
        "id": "f9TY0z-7XNst"
      },
      "execution_count": null,
      "outputs": []
    },
    {
      "cell_type": "code",
      "source": [
        "plt.figure(figsize=(12, 6))\n",
        "sns.barplot(x=top_products.index, y=top_products.values)\n",
        "plt.xticks(rotation=90)\n",
        "plt.xlabel('Product')\n",
        "plt.ylabel('Quantity Sold')\n",
        "plt.title('Top 10 Products Sold')\n",
        "plt.show()"
      ],
      "metadata": {
        "colab": {
          "base_uri": "https://localhost:8080/",
          "height": 621
        },
        "id": "EPhcqoQcXX4p",
        "outputId": "6b00d0e7-49ee-46e4-c604-5937de2510a7"
      },
      "execution_count": null,
      "outputs": [
        {
          "output_type": "display_data",
          "data": {
            "text/plain": [
              "<Figure size 1200x600 with 1 Axes>"
            ],
            "image/png": "[encoded data removed]"
          },
          "metadata": {}
        }
      ]
    },
    {
      "cell_type": "code",
      "source": [
        "# Distribution of Total Sales Amounts\n",
        "\n",
        "plt.figure(figsize=(10, 5))\n",
        "sns.histplot(df['Sales'], bins=50, kde=True)\n",
        "plt.xlabel('Sales')\n",
        "plt.ylabel('Frequency')\n",
        "plt.title('Distribution of Sales')\n",
        "plt.show()"
      ],
      "metadata": {
        "colab": {
          "base_uri": "https://localhost:8080/",
          "height": 487
        },
        "id": "8tHbfN9TXdCE",
        "outputId": "5421ee17-077e-4563-91b0-2acc06a2253f"
      },
      "execution_count": null,
      "outputs": [
        {
          "output_type": "display_data",
          "data": {
            "text/plain": [
              "<Figure size 1000x500 with 1 Axes>"
            ],
            "image/png": "[encoded data removed]"
          },
          "metadata": {}
        }
      ]
    },
    {
      "cell_type": "code",
      "source": [
        "# Best Selling Product Categories\n",
        "\n",
        "top_categories = df.groupby(\"Product_Category\")['Sales'].sum().sort_values(ascending=False).head(10)\n",
        "\n",
        "plt.figure(figsize=(12, 6))\n",
        "sns.barplot(x=top_categories.index, y=top_categories.values)\n",
        "plt.xticks(rotation=90)\n",
        "plt.xlabel('Product Category')\n",
        "plt.ylabel('Quantity Sold')\n",
        "plt.title('Best Selling Product Categories')\n",
        "plt.show()"
      ],
      "metadata": {
        "colab": {
          "base_uri": "https://localhost:8080/",
          "height": 670
        },
        "id": "tEGfThw3Xsau",
        "outputId": "fa825b53-599c-46cf-84ae-6b4603146729"
      },
      "execution_count": null,
      "outputs": [
        {
          "output_type": "stream",
          "name": "stderr",
          "text": [
            "<ipython-input-40-365e8ff98a7d>:3: FutureWarning: The default of observed=False is deprecated and will be changed to True in a future version of pandas. Pass observed=False to retain current behavior or observed=True to adopt the future default and silence this warning.\n",
            "  top_categories = df.groupby(\"Product_Category\")['Sales'].sum().sort_values(ascending=False).head(10)\n"
          ]
        },
        {
          "output_type": "display_data",
          "data": {
            "text/plain": [
              "<Figure size 1200x600 with 1 Axes>"
            ],
            "image/png": "[encoded data removed]"
          },
          "metadata": {}
        }
      ]
    },
    {
      "cell_type": "markdown",
      "source": [
        "## Key Findings and Insights"
      ],
      "metadata": {
        "id": "ZQPu8bWRaex9"
      }
    },
    {
      "cell_type": "markdown",
      "source": [
        "### 1. Orders appear to be spread out throughout the year.\n",
        "\n",
        "- When we look at the Order_Date variable, there are orders throughout 2018.\n",
        "  - Earliest order: January 1, 2018\n",
        "  - Latest order: December 30, 2018\n",
        "  \n",
        "We can create a time series chart to do seasonal analysis."
      ],
      "metadata": {
        "id": "_waMK0mzadfv"
      }
    },
    {
      "cell_type": "code",
      "source": [
        "# monthly analysis\n",
        "\n",
        "df['Month'] = df['Order_Date'].dt.month\n",
        "\n",
        "plt.figure(figsize=(10, 5))\n",
        "sns.countplot(x=df['Month'])\n",
        "plt.xlabel('Month')\n",
        "plt.ylabel('Number of Orders')\n",
        "plt.title('Orders per Month')\n",
        "plt.show()"
      ],
      "metadata": {
        "colab": {
          "base_uri": "https://localhost:8080/",
          "height": 487
        },
        "id": "c7CMCKkpYhz1",
        "outputId": "54af164e-15cc-4fde-8dc7-5481443286ff"
      },
      "execution_count": null,
      "outputs": [
        {
          "output_type": "display_data",
          "data": {
            "text/plain": [
              "<Figure size 1000x500 with 1 Axes>"
            ],
            "image/png": "[encoded data removed]"
          },
          "metadata": {}
        }
      ]
    },
    {
      "cell_type": "markdown",
      "source": [
        "Order Numbers by Month\n",
        "\n",
        "- The highest number of orders were placed in November and May.\n",
        "\n",
        "- The lowest order amount is in February.\n",
        "\n",
        "In general, an increase in orders is observed in the second half of the year (July - December).\n",
        "\n",
        "Suggestions:\n",
        "\n",
        "- The increase in November may probably be related to Black Friday and New Year's shopping.\n",
        "\n",
        "- Special campaigns should be increased during periods such as Black Friday and New Year's.\n",
        "\n",
        "- Since sales are low in February, special discounts or incentives can be made."
      ],
      "metadata": {
        "id": "IVeoCt6ob0I0"
      }
    },
    {
      "cell_type": "code",
      "source": [
        "# weekly analysis\n",
        "\n",
        "df['Weekday'] = df['Order_Date'].dt.day_name()\n",
        "\n",
        "plt.figure(figsize=(10, 5))\n",
        "sns.countplot(x=df['Weekday'], order=['Monday', 'Tuesday', 'Wednesday', 'Thursday', 'Friday', 'Saturday', 'Sunday'])\n",
        "plt.xlabel('Weekday')\n",
        "plt.ylabel('Number of Orders')\n",
        "plt.title('Orders per Weekday')\n",
        "plt.show()"
      ],
      "metadata": {
        "colab": {
          "base_uri": "https://localhost:8080/",
          "height": 487
        },
        "id": "5_g9jZ7aaq4s",
        "outputId": "1cb4d9df-88d2-4715-8bba-d5e4fcb3092c"
      },
      "execution_count": null,
      "outputs": [
        {
          "output_type": "display_data",
          "data": {
            "text/plain": [
              "<Figure size 1000x500 with 1 Axes>"
            ],
            "image/png": "[encoded data removed]"
          },
          "metadata": {}
        }
      ]
    },
    {
      "cell_type": "markdown",
      "source": [
        "Order Distribution by Day of the Week\n",
        "\n",
        "- It is seen that orders peak on Tuesday.\n",
        "\n",
        "- Saturday and Friday have the lowest order density.\n",
        "\n",
        "- In general, orders are higher on weekdays.\n",
        "\n",
        "Suggestions:\n",
        "\n",
        "- Special weekend discounts can be made to increase weekend sales.\n",
        "\n",
        "- Campaigns can be useful.\n",
        "\n",
        "- Operational processes should be optimized to meet the demand during the week, especially on Tuesday.\n",
        "\n",
        "- Stock management and customer service should be more active on busy days."
      ],
      "metadata": {
        "id": "Zgd2nz7EcCSn"
      }
    },
    {
      "cell_type": "code",
      "source": [
        "# Sales and Quantity\n",
        "\n",
        "sns.countplot(x=df['Quantity'])\n",
        "plt.xlabel('Quantity')\n",
        "plt.ylabel('Number of Orders')\n",
        "plt.title('Orders per Quantity')\n",
        "plt.show()"
      ],
      "metadata": {
        "colab": {
          "base_uri": "https://localhost:8080/",
          "height": 472
        },
        "id": "0Zd6c-YWbNyD",
        "outputId": "ae7383b1-7401-4dc2-c21e-efec1faecdcd"
      },
      "execution_count": null,
      "outputs": [
        {
          "output_type": "display_data",
          "data": {
            "text/plain": [
              "<Figure size 640x480 with 1 Axes>"
            ],
            "image/png": "[encoded data removed]"
          },
          "metadata": {}
        }
      ]
    },
    {
      "cell_type": "markdown",
      "source": [
        "Distribution According to Order Quantities\n",
        "\n",
        "- Most orders were placed as single items.\n",
        "- Multiple order numbers are evenly distributed between 2-5.\n",
        "\n",
        "Suggestions:\n",
        "\n",
        "- Promotions such as “Free shipping on purchases over X TL” or “20% discount on the 2nd product” can be offered to encourage customers to buy more products."
      ],
      "metadata": {
        "id": "kKQJ23E4cVG6"
      }
    },
    {
      "cell_type": "markdown",
      "source": [
        "## Hypotheses"
      ],
      "metadata": {
        "id": "43eY8QDEc5u0"
      }
    },
    {
      "cell_type": "markdown",
      "source": [
        "Based on the EDA results, we can create three hypotheses to test the data:\n",
        "\n",
        "1. Hypothesis 1 (Relationship between Discount and Sales)\n",
        "\n",
        "  - H0 (Null Hypothesis): As the discount rate increases, there is no significant change in the sales volume.\n",
        "\n",
        "  - H1 (Alternative Hypothesis): As the discount rate increases, the sales volume increases.\n",
        "\n",
        "2. Hypothesis 2 (Relationship between Order Quantity and Shipping Fee)\n",
        "\n",
        "  - H0: There is no significant relationship between the order quantity and shipping fee.\n",
        "  - H1: As the order quantity increases, the shipping fee paid also increases.\n",
        "\n",
        "3. Hypothesis 3 (Seasonal Sales Differences)\n",
        "\n",
        "  - H0: The number of orders does not show a statistically significant change in different months of the year.\n",
        "\n",
        "  - H1: Some months contain significantly more orders than other months."
      ],
      "metadata": {
        "id": "WBjjkvBtc9yg"
      }
    },
    {
      "cell_type": "markdown",
      "source": [
        "### Testing Hypothesis 1\n",
        "\n",
        "Goal:\n",
        "\n",
        "- To test whether there is a significant change in sales volume as the discount rate increases.\n",
        "\n",
        "- We can test this using Pearson Correlation Test and Regression Analysis (I have searched on the internet)"
      ],
      "metadata": {
        "id": "v5qjUxoXf1oA"
      }
    },
    {
      "cell_type": "markdown",
      "source": [
        "Pearson Correlation measures the linear relationship between two continuous variables.\n",
        "\n",
        "- Correlation coefficient (takes a value between -1 and 1):\n",
        "  - Positive (between 0 and 1): There is a positive relationship between two variables (If the discount increases, sales also increase).\n",
        "  - Negative (between 0 and -1): There is an inverse relationship (If the discount increases, sales decrease).\n",
        "  - Close to 0: There is no strong relationship.\n",
        "\n",
        "- p-value:\n",
        "  - p < 0.05: H0 is rejected (There is a significant relationship between discount and sales).\n",
        "  - p > 0.05: H0 is accepted (There is no significant relationship between discount and sales)."
      ],
      "metadata": {
        "id": "TKZOMwKZgMf8"
      }
    },
    {
      "cell_type": "code",
      "source": [
        "# For discount & sales\n",
        "\n",
        "from scipy.stats import pearsonr\n",
        "\n",
        "#Pearson Correlation Test\n",
        "corr, p_value = pearsonr(df['Discount'], df['Sales'])\n",
        "\n",
        "print(\"Pearson Correlation Coefficient:\", corr)\n",
        "print(\"p-value:\", p_value)"
      ],
      "metadata": {
        "id": "rvymU8OrbWxH",
        "colab": {
          "base_uri": "https://localhost:8080/"
        },
        "outputId": "acf5dfb0-9bc2-48fa-d20c-15ab9063805f"
      },
      "execution_count": 48,
      "outputs": [
        {
          "output_type": "stream",
          "name": "stdout",
          "text": [
            "Pearson Correlation Coefficient: 0.07259363293532928\n",
            "p-value: 7.047912575422185e-61\n"
          ]
        }
      ]
    },
    {
      "cell_type": "markdown",
      "source": [
        "- Pearson Corr. Coef.: ~ 0.0726\n",
        "\n",
        "  - There is a positive but very weak correlation.\n",
        "  - Since the value of 0.0726 is very close to 0, we can say that the discount has no significant effect on sales.\n",
        "\n",
        "- p-value = ~ 7.04e-61\n",
        "\n",
        "  - p-value < 0.05, meaning there is a statistically significant relationship.\n",
        "  - However, the fact that the relationship is significant does not mean that it is strong.\n",
        "\n",
        "**Result:**\n",
        "\n",
        "- H0 is rejected, meaning there is a statistically significant relationship between discount and sales."
      ],
      "metadata": {
        "id": "jua2NLYOgt0t"
      }
    },
    {
      "cell_type": "markdown",
      "source": [
        "### Testing Hypothesis 2\n",
        "\n",
        "Objective:\n",
        "\n",
        "- To test whether there is a significant relationship between order quantity and shipping fee.\n",
        "- Does shipping fee increase as order quantity increases?\n",
        "\n",
        "We will perform Pearson Correlation Test to test this hypothesis."
      ],
      "metadata": {
        "id": "71Yg3B69h2p4"
      }
    },
    {
      "cell_type": "code",
      "source": [
        "#Pearson Correlation Test\n",
        "corr, p_value = pearsonr(df['Quantity'], df['Shipping_Cost'])\n",
        "\n",
        "print(\"Pearson Correlation Coefficient:\", corr)\n",
        "print(\"p-value:\", p_value)"
      ],
      "metadata": {
        "colab": {
          "base_uri": "https://localhost:8080/"
        },
        "id": "ueyxFCs3iHcC",
        "outputId": "f8a06539-6978-4b02-ea80-b40ea3981ddc"
      },
      "execution_count": 49,
      "outputs": [
        {
          "output_type": "stream",
          "name": "stdout",
          "text": [
            "Pearson Correlation Coefficient: -0.1223819467727335\n",
            "p-value: 2.6290384339331787e-170\n"
          ]
        }
      ]
    },
    {
      "cell_type": "markdown",
      "source": [
        "- Pearson Correlation Coefficient = -0.1224\n",
        "  - There is a negative correlation.\n",
        "  - However, there is a very weak relationship.\n",
        "  - Contrary to expectations, it shows that shipping costs decrease slightly as the order size increases.\n",
        "\n",
        "- p-value = 2.62e-170\n",
        "  - p < 0.05, so H0 is rejected.\n",
        "  - However, the low correlation makes us wonder whether this relationship is important for the business.\n",
        "\n",
        "**Result:**\n",
        "\n",
        "H0 is rejected. There is a statistically significant relationship between order quantity and shipping cost."
      ],
      "metadata": {
        "id": "E7hkuC_KiUmh"
      }
    },
    {
      "cell_type": "markdown",
      "source": [
        "### Testing Hypothesis 3\n",
        "\n",
        "Objective:\n",
        "\n",
        "- To test whether there is a significant difference in the number of orders across different months of the year.\n",
        "\n",
        "- Does the number of orders significantly vary by month, or does it remain stable throughout the year?\n",
        "\n",
        "- This will be evaluated using One-Way ANOVA (I have searched on internet)"
      ],
      "metadata": {
        "id": "KAvUBFRLjw-I"
      }
    },
    {
      "cell_type": "markdown",
      "source": [
        "One-Way ANOVA:\n",
        "\n",
        "- It tests whether the means of multiple independent groups are significantly different.\n",
        "\n",
        "- The groups in this case are the 12 months of the year.\n",
        "\n",
        "- If the p-value < 0.05, it means at least one month has a significantly different number of orders."
      ],
      "metadata": {
        "id": "P64AOxgXkXy7"
      }
    },
    {
      "cell_type": "code",
      "source": [
        "import scipy.stats as stats\n",
        "\n",
        "# Creating a subset with only necessary columns\n",
        "df['Month'] = df['Order_Date'].dt.month\n",
        "\n",
        "# Creating a list of order counts for each month\n",
        "monthly_orders = [df[df['Month'] == month]['Sales'] for month in df['Month'].unique()]"
      ],
      "metadata": {
        "id": "1YQbLG8UiQur"
      },
      "execution_count": 52,
      "outputs": []
    },
    {
      "cell_type": "code",
      "source": [
        "# Running One-Way ANOVA\n",
        "\n",
        "f_stat, p_value = stats.f_oneway(*monthly_orders)\n",
        "\n",
        "print(f\"ANOVA F-statistic: {f_stat}\")\n",
        "print(f\"P-value: {p_value}\")"
      ],
      "metadata": {
        "colab": {
          "base_uri": "https://localhost:8080/"
        },
        "id": "Q5qkkEXvkL_s",
        "outputId": "579616c2-5688-4316-aa43-baf9a5919aa6"
      },
      "execution_count": 51,
      "outputs": [
        {
          "output_type": "stream",
          "name": "stdout",
          "text": [
            "ANOVA F-statistic: 1.4645210530017125\n",
            "P-value: 0.1371462547299136\n"
          ]
        }
      ]
    },
    {
      "cell_type": "markdown",
      "source": [
        "- p-value = 0.1371 and bigger than 0.05\n",
        "\n",
        "  - H0 is not rejected, meaning that there is no statistically significant difference in the number of orders across different months\n",
        "\n",
        "  - This indicates that orders remain relatively stable throughout the year, and there is no strong seasonal trend in order volume."
      ],
      "metadata": {
        "id": "UluSYazskjMt"
      }
    },
    {
      "cell_type": "markdown",
      "source": [
        "## Suggestions\n",
        "\n",
        "- Customer Segmentation: It’d be useful to see which customer groups spend the most.\n",
        "\n",
        "- Product Performance: Finding out which products bring in the most profit and which ones don’t sell well could help optimize inventory.\n",
        "\n",
        "- Basket Analysis: Checking which products are often bought together could be great for cross-selling strategies."
      ],
      "metadata": {
        "id": "Yyy9LKP7lsV5"
      }
    },
    {
      "cell_type": "markdown",
      "source": [
        "## Data Quality\n",
        "\n",
        "The dataset is clean and easy to work with, but it’s missing some key details:\n",
        "\n",
        "- Customer info\n",
        "- Product cost for profitability\n",
        "- Delivery time"
      ],
      "metadata": {
        "id": "gk0uA0OHmRR2"
      }
    }
  ]
}